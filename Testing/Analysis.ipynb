{
 "cells": [
  {
   "cell_type": "code",
   "execution_count": 2,
   "id": "ddb3e8e8",
   "metadata": {},
   "outputs": [
    {
     "name": "stdout",
     "output_type": "stream",
     "text": [
      "Collecting nltk\n",
      "  Downloading nltk-3.9.2-py3-none-any.whl.metadata (3.2 kB)\n",
      "Requirement already satisfied: click in /opt/anaconda3/envs/ml2-env/lib/python3.10/site-packages (from nltk) (8.2.1)\n",
      "Requirement already satisfied: joblib in /opt/anaconda3/envs/ml2-env/lib/python3.10/site-packages (from nltk) (1.5.1)\n",
      "Requirement already satisfied: regex>=2021.8.3 in /opt/anaconda3/envs/ml2-env/lib/python3.10/site-packages (from nltk) (2025.7.34)\n",
      "Requirement already satisfied: tqdm in /opt/anaconda3/envs/ml2-env/lib/python3.10/site-packages (from nltk) (4.67.1)\n",
      "Downloading nltk-3.9.2-py3-none-any.whl (1.5 MB)\n",
      "\u001b[2K   \u001b[90m━━━━━━━━━━━━━━━━━━━━━━━━━━━━━━━━━━━━━━━━\u001b[0m \u001b[32m1.5/1.5 MB\u001b[0m \u001b[31m2.3 MB/s\u001b[0m eta \u001b[36m0:00:00\u001b[0ma \u001b[36m0:00:01\u001b[0m\n",
      "\u001b[?25hInstalling collected packages: nltk\n",
      "Successfully installed nltk-3.9.2\n"
     ]
    }
   ],
   "source": [
    "! pip install nltk\n",
    "\n"
   ]
  },
  {
   "cell_type": "code",
   "execution_count": null,
   "id": "c8ac9d8f",
   "metadata": {},
   "outputs": [],
   "source": [
    "from nltk.translate.bleu_score import sentence_bleu, SmoothingFunction\n",
    "\n",
    "def calculate_bleu(reference_text: str, generated_text: str) -> float:\n",
    "    reference_tokens = reference_text.lower().split()\n",
    "    generated_tokens = generated_text.lower().split()\n",
    "\n",
    "    smooth_fn = SmoothingFunction().method1\n",
    "    bleu = sentence_bleu([reference_tokens], generated_tokens, smoothing_function=smooth_fn)\n",
    "    return bleu\n"
   ]
  },
  {
   "cell_type": "code",
   "execution_count": 7,
   "id": "af78a27f",
   "metadata": {},
   "outputs": [
    {
     "name": "stdout",
     "output_type": "stream",
     "text": [
      "Open Source Model BLEU: 0.08645894070583753\n",
      "Gemini Model BLEU: 0.18289977296095222\n"
     ]
    }
   ],
   "source": [
    "reference = \"\"\"Cricket is a bat-and-ball sport played between two teams of eleven on a field centered around a 22-yard pitch with a wicket at each end. One team bats, aiming to score runs by hitting the ball and running between wickets or reaching the boundary, while the other team bowls and fields to dismiss batters and limit runs. Dismissals occur through bowling, catches, or run-outs. After ten players are out, the teams switch roles.\n",
    "\n",
    "The game varies from long-format Test matches lasting five days to shorter limited-overs versions like Twenty20, which last only a few hours. Players traditionally wear white clothing, though colored kits are used in limited-overs formats. The ball, made of leather around a cork core, travels at high speed, necessitating protective gear for batters.\n",
    "\n",
    "Cricket originated in 16th-century England, spreading worldwide through British colonial influence. The International Cricket Council (ICC) governs the sport, and the Laws of Cricket are maintained by Marylebone Cricket Club (MCC) in London. The game is most popular in South Asia, Australia, the UK, and parts of Africa and the Caribbean. Women's cricket has rapidly expanded in recent years. Australia remains the most successful international side, dominating both Test and One Day formats.\"\"\"\n",
    "gemini_output = \"\"\"Summary:\n",
    " **1. Overview and Core Idea:**\n",
    "\n",
    "Cricket is a bat-and-ball team sport played between two teams of eleven players. The core gameplay involves one team batting, attempting to score runs, while the other team fields, attempting to dismiss the batters and limit the score. The game is played on a field with a pitch in the center, featuring wickets at each end. Teams exchange batting and fielding roles after ten batters are dismissed.\n",
    "\n",
    "**2. Details or Methodology:**\n",
    "\n",
    "Batters score runs by hitting a bowled ball and exchanging places with their teammate or by hitting the ball to the field boundary. Bowlers try to dismiss batters by hitting the wicket with the ball, having the ball caught after it's hit, or other means. The game has evolved into different formats, ranging from five-day Test matches to shorter Twenty20 (T20) games, each with varying rules and durations. Cricket equipment includes bats, balls, wickets, and protective gear, with teams traditionally wearing white kits but using colored kits in limited-overs formats.\n",
    "\n",
    "**3. Significance or Broader Context:**\n",
    "\n",
    "Originating in England in the 16th century, cricket spread globally with the British Empire. The International Cricket Council (ICC) governs the sport worldwide, while the Marylebone Cricket Club (MCC) maintains the Laws of Cricket. Predominantly followed in South Asia, Australia, the UK, and Southern Africa, cricket has seen significant growth in women's participation in the 21st century. Australia holds the record for international cricket success.\"\"\"\n",
    "\n",
    "open_source_output = \"\"\"Summary: 1. **Overview and Core Idea**\n",
    "\n",
    "Cricket is a bat-and-ball game played between two teams of eleven players, with the objective of scoring runs while preventing the opposing team from doing so. The game is played on a field with a 22-yard pitch and a wicket at each end, consisting of three stumps and two bails. The batting team aims to hit the ball with the bat and switch places, scoring a run each time, while the fielding team aims to dismiss the batters by various means, such as bowling, catching, or hitting the wicket. The game can last from three to four hours in the Twenty20 format to five days in Test matches.\n",
    "\n",
    "The game's rules are governed by the International Cricket Council (ICC), and the sport is primarily followed in South Asia, Australia, New Zealand, the United Kingdom, Southern Africa, and the West Indies. While traditionally a male-dominated sport, women's cricket has seen significant growth in the 21st century.\n",
    "\n",
    "Australia is the most successful international cricket team, having won eight One Day International trophies, including six World Cups, and being the top-rated Test side more than any other country.\n",
    "\n",
    "2. **Details or Methodology**\n",
    "\n",
    "In cricket, the batting team consists of two players, the striker and the non-striker, who stand in front of either wicket. The fielding team consists of eleven players, with one player, the bowler, bowling the ball from the opposite end of the pitch. The batting team scores runs by hitting the ball with the bat and switching places, or when the ball reaches the boundary of the field or is bowled illegally. The fielding team aims to dismiss the batters by various means, such as bowling, catching, or hitting the wicket.\n",
    "\n",
    "The game is divided into overs, with each over consisting of six fair opportunities for the batting team to score. The number of overs varies between formats, with Test matches consisting of 90 overs and Twenty20 matches consisting of 20 overs.\n",
    "\n",
    "3. **Significance or Broader Context**\n",
    "\n",
    "Cricket is a globally popular sport that originated in South East England in the mid-16th century and spread with the expansion of the British Empire. The game's rules have evolved\n",
    "\"\"\"\n",
    "\n",
    "print(\"Open Source Model BLEU:\", calculate_bleu(reference, open_source_output))\n",
    "print(\"Gemini Model BLEU:\", calculate_bleu(reference, gemini_output))\n"
   ]
  },
  {
   "cell_type": "code",
   "execution_count": 5,
   "id": "4006caa9",
   "metadata": {},
   "outputs": [
    {
     "name": "stdout",
     "output_type": "stream",
     "text": [
      "Collecting rouge-score\n",
      "  Downloading rouge_score-0.1.2.tar.gz (17 kB)\n",
      "  Preparing metadata (setup.py) ... \u001b[?25ldone\n",
      "\u001b[?25hCollecting bert-score\n",
      "  Downloading bert_score-0.3.13-py3-none-any.whl.metadata (15 kB)\n",
      "Collecting absl-py (from rouge-score)\n",
      "  Downloading absl_py-2.3.1-py3-none-any.whl.metadata (3.3 kB)\n",
      "Requirement already satisfied: nltk in /opt/anaconda3/envs/ml2-env/lib/python3.10/site-packages (from rouge-score) (3.9.2)\n",
      "Requirement already satisfied: numpy in /opt/anaconda3/envs/ml2-env/lib/python3.10/site-packages (from rouge-score) (2.2.6)\n",
      "Requirement already satisfied: six>=1.14.0 in /opt/anaconda3/envs/ml2-env/lib/python3.10/site-packages (from rouge-score) (1.17.0)\n",
      "Requirement already satisfied: torch>=1.0.0 in /opt/anaconda3/envs/ml2-env/lib/python3.10/site-packages (from bert-score) (2.7.1)\n",
      "Requirement already satisfied: pandas>=1.0.1 in /opt/anaconda3/envs/ml2-env/lib/python3.10/site-packages (from bert-score) (2.3.0)\n",
      "Requirement already satisfied: transformers>=3.0.0 in /opt/anaconda3/envs/ml2-env/lib/python3.10/site-packages (from bert-score) (4.54.1)\n",
      "Requirement already satisfied: requests in /opt/anaconda3/envs/ml2-env/lib/python3.10/site-packages (from bert-score) (2.32.4)\n",
      "Requirement already satisfied: tqdm>=4.31.1 in /opt/anaconda3/envs/ml2-env/lib/python3.10/site-packages (from bert-score) (4.67.1)\n",
      "Requirement already satisfied: matplotlib in /opt/anaconda3/envs/ml2-env/lib/python3.10/site-packages (from bert-score) (3.10.3)\n",
      "Requirement already satisfied: packaging>=20.9 in /opt/anaconda3/envs/ml2-env/lib/python3.10/site-packages (from bert-score) (25.0)\n",
      "Requirement already satisfied: python-dateutil>=2.8.2 in /opt/anaconda3/envs/ml2-env/lib/python3.10/site-packages (from pandas>=1.0.1->bert-score) (2.9.0.post0)\n",
      "Requirement already satisfied: pytz>=2020.1 in /opt/anaconda3/envs/ml2-env/lib/python3.10/site-packages (from pandas>=1.0.1->bert-score) (2025.2)\n",
      "Requirement already satisfied: tzdata>=2022.7 in /opt/anaconda3/envs/ml2-env/lib/python3.10/site-packages (from pandas>=1.0.1->bert-score) (2025.2)\n",
      "Requirement already satisfied: filelock in /opt/anaconda3/envs/ml2-env/lib/python3.10/site-packages (from torch>=1.0.0->bert-score) (3.18.0)\n",
      "Requirement already satisfied: typing-extensions>=4.10.0 in /opt/anaconda3/envs/ml2-env/lib/python3.10/site-packages (from torch>=1.0.0->bert-score) (4.12.2)\n",
      "Requirement already satisfied: sympy>=1.13.3 in /opt/anaconda3/envs/ml2-env/lib/python3.10/site-packages (from torch>=1.0.0->bert-score) (1.14.0)\n",
      "Requirement already satisfied: networkx in /opt/anaconda3/envs/ml2-env/lib/python3.10/site-packages (from torch>=1.0.0->bert-score) (3.4.2)\n",
      "Requirement already satisfied: jinja2 in /opt/anaconda3/envs/ml2-env/lib/python3.10/site-packages (from torch>=1.0.0->bert-score) (3.1.6)\n",
      "Requirement already satisfied: fsspec in /opt/anaconda3/envs/ml2-env/lib/python3.10/site-packages (from torch>=1.0.0->bert-score) (2025.3.0)\n",
      "Requirement already satisfied: mpmath<1.4,>=1.1.0 in /opt/anaconda3/envs/ml2-env/lib/python3.10/site-packages (from sympy>=1.13.3->torch>=1.0.0->bert-score) (1.3.0)\n",
      "Requirement already satisfied: huggingface-hub<1.0,>=0.34.0 in /opt/anaconda3/envs/ml2-env/lib/python3.10/site-packages (from transformers>=3.0.0->bert-score) (0.34.3)\n",
      "Requirement already satisfied: pyyaml>=5.1 in /opt/anaconda3/envs/ml2-env/lib/python3.10/site-packages (from transformers>=3.0.0->bert-score) (6.0.2)\n",
      "Requirement already satisfied: regex!=2019.12.17 in /opt/anaconda3/envs/ml2-env/lib/python3.10/site-packages (from transformers>=3.0.0->bert-score) (2025.7.34)\n",
      "Requirement already satisfied: tokenizers<0.22,>=0.21 in /opt/anaconda3/envs/ml2-env/lib/python3.10/site-packages (from transformers>=3.0.0->bert-score) (0.21.4)\n",
      "Requirement already satisfied: safetensors>=0.4.3 in /opt/anaconda3/envs/ml2-env/lib/python3.10/site-packages (from transformers>=3.0.0->bert-score) (0.5.3)\n",
      "Requirement already satisfied: hf-xet<2.0.0,>=1.1.3 in /opt/anaconda3/envs/ml2-env/lib/python3.10/site-packages (from huggingface-hub<1.0,>=0.34.0->transformers>=3.0.0->bert-score) (1.1.5)\n",
      "Requirement already satisfied: MarkupSafe>=2.0 in /opt/anaconda3/envs/ml2-env/lib/python3.10/site-packages (from jinja2->torch>=1.0.0->bert-score) (3.0.2)\n",
      "Requirement already satisfied: contourpy>=1.0.1 in /opt/anaconda3/envs/ml2-env/lib/python3.10/site-packages (from matplotlib->bert-score) (1.3.2)\n",
      "Requirement already satisfied: cycler>=0.10 in /opt/anaconda3/envs/ml2-env/lib/python3.10/site-packages (from matplotlib->bert-score) (0.12.1)\n",
      "Requirement already satisfied: fonttools>=4.22.0 in /opt/anaconda3/envs/ml2-env/lib/python3.10/site-packages (from matplotlib->bert-score) (4.58.5)\n",
      "Requirement already satisfied: kiwisolver>=1.3.1 in /opt/anaconda3/envs/ml2-env/lib/python3.10/site-packages (from matplotlib->bert-score) (1.4.8)\n",
      "Requirement already satisfied: pillow>=8 in /opt/anaconda3/envs/ml2-env/lib/python3.10/site-packages (from matplotlib->bert-score) (11.3.0)\n",
      "Requirement already satisfied: pyparsing>=2.3.1 in /opt/anaconda3/envs/ml2-env/lib/python3.10/site-packages (from matplotlib->bert-score) (3.2.3)\n",
      "Requirement already satisfied: click in /opt/anaconda3/envs/ml2-env/lib/python3.10/site-packages (from nltk->rouge-score) (8.2.1)\n",
      "Requirement already satisfied: joblib in /opt/anaconda3/envs/ml2-env/lib/python3.10/site-packages (from nltk->rouge-score) (1.5.1)\n",
      "Requirement already satisfied: charset_normalizer<4,>=2 in /opt/anaconda3/envs/ml2-env/lib/python3.10/site-packages (from requests->bert-score) (3.4.2)\n",
      "Requirement already satisfied: idna<4,>=2.5 in /opt/anaconda3/envs/ml2-env/lib/python3.10/site-packages (from requests->bert-score) (3.10)\n",
      "Requirement already satisfied: urllib3<3,>=1.21.1 in /opt/anaconda3/envs/ml2-env/lib/python3.10/site-packages (from requests->bert-score) (2.5.0)\n",
      "Requirement already satisfied: certifi>=2017.4.17 in /opt/anaconda3/envs/ml2-env/lib/python3.10/site-packages (from requests->bert-score) (2025.6.15)\n",
      "Downloading bert_score-0.3.13-py3-none-any.whl (61 kB)\n",
      "Downloading absl_py-2.3.1-py3-none-any.whl (135 kB)\n",
      "Building wheels for collected packages: rouge-score\n",
      "\u001b[33m  DEPRECATION: Building 'rouge-score' using the legacy setup.py bdist_wheel mechanism, which will be removed in a future version. pip 25.3 will enforce this behaviour change. A possible replacement is to use the standardized build interface by setting the `--use-pep517` option, (possibly combined with `--no-build-isolation`), or adding a `pyproject.toml` file to the source tree of 'rouge-score'. Discussion can be found at https://github.com/pypa/pip/issues/6334\u001b[0m\u001b[33m\n",
      "\u001b[0m  Building wheel for rouge-score (setup.py) ... \u001b[?25ldone\n",
      "\u001b[?25h  Created wheel for rouge-score: filename=rouge_score-0.1.2-py3-none-any.whl size=24988 sha256=294f7691bdf6fdb644db5a16113902971511715efc041ef97a62e1e35f7a5fbe\n",
      "  Stored in directory: /Users/raghx/Library/Caches/pip/wheels/5f/dd/89/461065a73be61a532ff8599a28e9beef17985c9e9c31e541b4\n",
      "Successfully built rouge-score\n",
      "Installing collected packages: absl-py, rouge-score, bert-score\n",
      "\u001b[2K   \u001b[90m━━━━━━━━━━━━━━━━━━━━━━━━━━━━━━━━━━━━━━━━\u001b[0m \u001b[32m3/3\u001b[0m [bert-score]\n",
      "\u001b[1A\u001b[2KSuccessfully installed absl-py-2.3.1 bert-score-0.3.13 rouge-score-0.1.2\n"
     ]
    }
   ],
   "source": [
    "! pip install rouge-score bert-score"
   ]
  },
  {
   "cell_type": "code",
   "execution_count": null,
   "id": "a4ccc13f",
   "metadata": {},
   "outputs": [
    {
     "name": "stdout",
     "output_type": "stream",
     "text": [
      "=== ROUGE Scores ===\n",
      "Open Source Model: {'rouge1': Score(precision=0.3924731182795699, recall=0.7019230769230769, fmeasure=0.503448275862069), 'rouge2': Score(precision=0.15902964959568733, recall=0.28502415458937197, fmeasure=0.20415224913494812), 'rougeL': Score(precision=0.21505376344086022, recall=0.38461538461538464, fmeasure=0.27586206896551724)}\n",
      "Gemini Model: {'rouge1': Score(precision=0.588477366255144, recall=0.6875, fmeasure=0.6341463414634145), 'rouge2': Score(precision=0.2975206611570248, recall=0.34782608695652173, fmeasure=0.3207126948775056), 'rougeL': Score(precision=0.3662551440329218, recall=0.42788461538461536, fmeasure=0.3946784922394678)}\n"
     ]
    },
    {
     "data": {
      "application/vnd.jupyter.widget-view+json": {
       "model_id": "334ddbf600c84db99037b0ea325b5b8c",
       "version_major": 2,
       "version_minor": 0
      },
      "text/plain": [
       "model.safetensors:   0%|          | 0.00/1.42G [00:00<?, ?B/s]"
      ]
     },
     "metadata": {},
     "output_type": "display_data"
    },
    {
     "name": "stderr",
     "output_type": "stream",
     "text": [
      "Some weights of RobertaModel were not initialized from the model checkpoint at roberta-large and are newly initialized: ['pooler.dense.bias', 'pooler.dense.weight']\n",
      "You should probably TRAIN this model on a down-stream task to be able to use it for predictions and inference.\n",
      "/opt/anaconda3/envs/ml2-env/lib/python3.10/site-packages/torch/nn/modules/module.py:1762: FutureWarning: `encoder_attention_mask` is deprecated and will be removed in version 4.55.0 for `RobertaSdpaSelfAttention.forward`.\n",
      "  return forward_call(*args, **kwargs)\n",
      "Some weights of RobertaModel were not initialized from the model checkpoint at roberta-large and are newly initialized: ['pooler.dense.bias', 'pooler.dense.weight']\n",
      "You should probably TRAIN this model on a down-stream task to be able to use it for predictions and inference.\n",
      "/opt/anaconda3/envs/ml2-env/lib/python3.10/site-packages/torch/nn/modules/module.py:1762: FutureWarning: `encoder_attention_mask` is deprecated and will be removed in version 4.55.0 for `RobertaSdpaSelfAttention.forward`.\n",
      "  return forward_call(*args, **kwargs)\n"
     ]
    },
    {
     "name": "stdout",
     "output_type": "stream",
     "text": [
      "\n",
      "=== BERTScore ===\n",
      "Open Source Model - Precision: 0.1372, Recall: 0.2956, F1: 0.2165\n",
      "Gemini Model      - Precision: 0.3022, Recall: 0.4109, F1: 0.3570\n"
     ]
    }
   ],
   "source": [
    "\n",
    "from rouge_score import rouge_scorer\n",
    "from bert_score import score as bert_score\n",
    "\n",
    "reference = \"\"\"Cricket is a bat-and-ball sport played between two teams of eleven on a field centered around a 22-yard pitch with a wicket at each end. One team bats, aiming to score runs by hitting the ball and running between wickets or reaching the boundary, while the other team bowls and fields to dismiss batters and limit runs. Dismissals occur through bowling, catches, or run-outs. After ten players are out, the teams switch roles.\n",
    "\n",
    "The game varies from long-format Test matches lasting five days to shorter limited-overs versions like Twenty20, which last only a few hours. Players traditionally wear white clothing, though colored kits are used in limited-overs formats. The ball, made of leather around a cork core, travels at high speed, necessitating protective gear for batters.\n",
    "\n",
    "Cricket originated in 16th-century England, spreading worldwide through British colonial influence. The International Cricket Council (ICC) governs the sport, and the Laws of Cricket are maintained by Marylebone Cricket Club (MCC) in London. The game is most popular in South Asia, Australia, the UK, and parts of Africa and the Caribbean. Women's cricket has rapidly expanded in recent years. Australia remains the most successful international side, dominating both Test and One Day formats.\"\"\"\n",
    "gemini_output = \"\"\"Summary:\n",
    " **1. Overview and Core Idea:**\n",
    "\n",
    "Cricket is a bat-and-ball team sport played between two teams of eleven players. The core gameplay involves one team batting, attempting to score runs, while the other team fields, attempting to dismiss the batters and limit the score. The game is played on a field with a pitch in the center, featuring wickets at each end. Teams exchange batting and fielding roles after ten batters are dismissed.\n",
    "\n",
    "**2. Details or Methodology:**\n",
    "\n",
    "Batters score runs by hitting a bowled ball and exchanging places with their teammate or by hitting the ball to the field boundary. Bowlers try to dismiss batters by hitting the wicket with the ball, having the ball caught after it's hit, or other means. The game has evolved into different formats, ranging from five-day Test matches to shorter Twenty20 (T20) games, each with varying rules and durations. Cricket equipment includes bats, balls, wickets, and protective gear, with teams traditionally wearing white kits but using colored kits in limited-overs formats.\n",
    "\n",
    "**3. Significance or Broader Context:**\n",
    "\n",
    "Originating in England in the 16th century, cricket spread globally with the British Empire. The International Cricket Council (ICC) governs the sport worldwide, while the Marylebone Cricket Club (MCC) maintains the Laws of Cricket. Predominantly followed in South Asia, Australia, the UK, and Southern Africa, cricket has seen significant growth in women's participation in the 21st century. Australia holds the record for international cricket success.\"\"\"\n",
    "\n",
    "open_source_output = \"\"\"Summary: 1. **Overview and Core Idea**\n",
    "\n",
    "Cricket is a bat-and-ball game played between two teams of eleven players, with the objective of scoring runs while preventing the opposing team from doing so. The game is played on a field with a 22-yard pitch and a wicket at each end, consisting of three stumps and two bails. The batting team aims to hit the ball with the bat and switch places, scoring a run each time, while the fielding team aims to dismiss the batters by various means, such as bowling, catching, or hitting the wicket. The game can last from three to four hours in the Twenty20 format to five days in Test matches.\n",
    "\n",
    "The game's rules are governed by the International Cricket Council (ICC), and the sport is primarily followed in South Asia, Australia, New Zealand, the United Kingdom, Southern Africa, and the West Indies. While traditionally a male-dominated sport, women's cricket has seen significant growth in the 21st century.\n",
    "\n",
    "Australia is the most successful international cricket team, having won eight One Day International trophies, including six World Cups, and being the top-rated Test side more than any other country.\n",
    "\n",
    "2. **Details or Methodology**\n",
    "\n",
    "In cricket, the batting team consists of two players, the striker and the non-striker, who stand in front of either wicket. The fielding team consists of eleven players, with one player, the bowler, bowling the ball from the opposite end of the pitch. The batting team scores runs by hitting the ball with the bat and switching places, or when the ball reaches the boundary of the field or is bowled illegally. The fielding team aims to dismiss the batters by various means, such as bowling, catching, or hitting the wicket.\n",
    "\n",
    "The game is divided into overs, with each over consisting of six fair opportunities for the batting team to score. The number of overs varies between formats, with Test matches consisting of 90 overs and Twenty20 matches consisting of 20 overs.\n",
    "\n",
    "3. **Significance or Broader Context**\n",
    "\n",
    "Cricket is a globally popular sport that originated in South East England in the mid-16th century and spread with the expansion of the British Empire. The game's rules have evolved\n",
    "\"\"\"\n",
    "\n",
    "scorer = rouge_scorer.RougeScorer(['rouge1', 'rouge2', 'rougeL'], use_stemmer=True)\n",
    "open_source_rouge = scorer.score(reference, open_source_output)\n",
    "gemini_rouge = scorer.score(reference, gemini_output)\n",
    "\n",
    "print(\"=== ROUGE Scores ===\")\n",
    "print(\"Open Source Model:\", open_source_rouge)\n",
    "print(\"Gemini Model:\", gemini_rouge)\n",
    "\n",
    "P_os, R_os, F_os = bert_score([open_source_output], [reference], lang=\"en\", rescale_with_baseline=True)\n",
    "P_g, R_g, F_g = bert_score([gemini_output], [reference], lang=\"en\", rescale_with_baseline=True)\n",
    "\n",
    "print(\"\\n=== BERTScore ===\")\n",
    "print(f\"Open Source Model - Precision: {P_os.mean().item():.4f}, Recall: {R_os.mean().item():.4f}, F1: {F_os.mean().item():.4f}\")\n",
    "print(f\"Gemini Model      - Precision: {P_g.mean().item():.4f}, Recall: {R_g.mean().item():.4f}, F1: {F_g.mean().item():.4f}\")\n"
   ]
  },
  {
   "cell_type": "code",
   "execution_count": null,
   "id": "9eeccc1d",
   "metadata": {},
   "outputs": [],
   "source": []
  }
 ],
 "metadata": {
  "kernelspec": {
   "display_name": "GenAi(env)",
   "language": "python",
   "name": "my_env"
  },
  "language_info": {
   "codemirror_mode": {
    "name": "ipython",
    "version": 3
   },
   "file_extension": ".py",
   "mimetype": "text/x-python",
   "name": "python",
   "nbconvert_exporter": "python",
   "pygments_lexer": "ipython3",
   "version": "3.10.18"
  }
 },
 "nbformat": 4,
 "nbformat_minor": 5
}
